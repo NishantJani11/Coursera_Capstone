{
    "cells": [
        {
            "cell_type": "markdown",
            "metadata": {
                "collapsed": true
            },
            "source": "# Introduction: Business Problem"
        },
        {
            "cell_type": "markdown",
            "metadata": {},
            "source": "### Mumbai is the financial, commercial and entertainment capital of India and contributes to 6.16% of India's GDP. According to United Nations, Mumbai is the second-most populous city in India aftter Delhi. Investors and entrepreneurs all over the world want to invest in Mumbai due to it's business oppurtunities and large labor-force.\n\n### Due to it's high population, the food and beverage industry can prosper with a reasonably moderate investment and large profit margins. Thus, this project (report) can provide a perspective to entrepreneurs and investors from all over the world looking to invest in beverage and food industry in Mumbai. The analysis will provide a perspective on various areas (clusters) of Mumbai and will be able to tell where opening a beverage shop or a restaurant can prove profitable to the investor."
        },
        {
            "cell_type": "markdown",
            "metadata": {},
            "source": "# Data"
        },
        {
            "cell_type": "markdown",
            "metadata": {},
            "source": "### The data for the list of neighborhoods in Mumbai is obtained from <a>https://en.wikipedia.org/wiki/List_of_neighbourhoods_in_Mumbai</a>\n### The different venues and it's queries is obtained from the FourSquare APIs. The dataframe will contain top 10 venues in each cluster of areas and will provide adequate information to make a decision about where to open beverage shops or restaurants. K-means clustering algorithm of machine learning will be used to cluster the areas (districts) of Mumbai with high accuracy and will be used to find pattern between the different districts and clusters.\n### Thus, the data will be used to meet the following objectives:\n<ul>\n    <li> Neighborhoods and Areas of Mumbai </li>\n    <li> Trending Venues of the Areas </li>\n    <li> Categorizing the venues </li>\n    <li> Cluster different Areas of Mumbai using K-means algorithm </li>"
        }
    ],
    "metadata": {
        "kernelspec": {
            "display_name": "Python 3.6",
            "language": "python",
            "name": "python3"
        },
        "language_info": {
            "codemirror_mode": {
                "name": "ipython",
                "version": 3
            },
            "file_extension": ".py",
            "mimetype": "text/x-python",
            "name": "python",
            "nbconvert_exporter": "python",
            "pygments_lexer": "ipython3",
            "version": "3.6.9"
        }
    },
    "nbformat": 4,
    "nbformat_minor": 1
}